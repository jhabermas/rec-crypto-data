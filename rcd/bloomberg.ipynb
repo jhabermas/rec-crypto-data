{
 "cells": [
  {
   "cell_type": "code",
   "execution_count": 1,
   "metadata": {},
   "outputs": [
    {
     "name": "stdout",
     "output_type": "stream",
     "text": [
      "['markets']\n"
     ]
    }
   ],
   "source": [
    "from rcd.config import get_module_config\n",
    "\n",
    "config = get_module_config(\"markets\")"
   ]
  },
  {
   "cell_type": "code",
   "execution_count": 18,
   "metadata": {},
   "outputs": [],
   "source": [
    "def print_enpoints(c):\n",
    "    print(c.)\n",
    "    for e in c.endpoints:\n",
    "        print(e)"
   ]
  },
  {
   "cell_type": "code",
   "execution_count": 20,
   "metadata": {},
   "outputs": [
    {
     "name": "stdout",
     "output_type": "stream",
     "text": [
      "{'interval': 900, 'endpoints': [{'api': 'binance', 'channel': 'tickers.spot', 'type': 'spot', 'url': 'https:/api.binance.com/api/v3/ticker/24hr'}, {'api': 'binance', 'channel': 'tickers.futures', 'type': 'linear', 'url': 'https://fapi.binance.com/fapi/v1/ticker/24hr'}, {'api': 'bybit', 'channel': 'tickers', 'type': 'spot', 'url': 'https://api.bybit.com/v5/market/tickers?category=spot'}, {'api': 'bybit', 'channel': 'tickers', 'type': 'linear', 'url': 'https://api.bybit.com/v5/market/tickers?category=linear'}, {'api': 'bybit', 'channel': 'tickers', 'url': 'https://api.bybit.com/v5/market/tickers?category=inverse'}, {'api': 'okx', 'channel': 'tickers', 'url': 'https://www.okx.com/api/v5/market/tickers?instType=SPOT'}, {'api': 'okx', 'channel': 'tickers', 'url': 'https://www.okx.com/api/v5/market/tickers?instType=SWAP'}, {'api': 'okx', 'channel': 'tickers', 'url': 'https://www.okx.com/api/v5/public/open-interest?instType=OPTION'}, {'api': 'okx', 'channel': 'tickers', 'url': 'https://www.okx.com/api/v5/public/opt-summary?uly=BTC-USD'}, {'api': 'dydx', 'channel': 'tickers', 'url': 'https://api.dydx.exchange/v3/markets'}, {'api': 'deribit', 'channel': 'options1', 'url': 'https://www.deribit.com/api/v2/public/get_book_summary_by_currency?currency=BTC&kind=future'}, {'api': 'deribit', 'channel': 'options1', 'url': 'https://www.deribit.com/api/v2/public/get_book_summary_by_currency?currency=BTC&kind=option'}, {'api': 'deribit', 'channel': 'options2', 'url': 'https://www.deribit.com/api/v2/public/ticker?instrument_name=BTC-PERPETUAL'}]}\n",
      "{'api': 'binance', 'channel': 'tickers.spot', 'type': 'spot', 'url': 'https:/api.binance.com/api/v3/ticker/24hr'}\n",
      "{'api': 'binance', 'channel': 'tickers.futures', 'type': 'linear', 'url': 'https://fapi.binance.com/fapi/v1/ticker/24hr'}\n",
      "{'api': 'bybit', 'channel': 'tickers', 'type': 'spot', 'url': 'https://api.bybit.com/v5/market/tickers?category=spot'}\n",
      "{'api': 'bybit', 'channel': 'tickers', 'type': 'linear', 'url': 'https://api.bybit.com/v5/market/tickers?category=linear'}\n",
      "{'api': 'bybit', 'channel': 'tickers', 'url': 'https://api.bybit.com/v5/market/tickers?category=inverse'}\n",
      "{'api': 'okx', 'channel': 'tickers', 'url': 'https://www.okx.com/api/v5/market/tickers?instType=SPOT'}\n",
      "{'api': 'okx', 'channel': 'tickers', 'url': 'https://www.okx.com/api/v5/market/tickers?instType=SWAP'}\n",
      "{'api': 'okx', 'channel': 'tickers', 'url': 'https://www.okx.com/api/v5/public/open-interest?instType=OPTION'}\n",
      "{'api': 'okx', 'channel': 'tickers', 'url': 'https://www.okx.com/api/v5/public/opt-summary?uly=BTC-USD'}\n",
      "{'api': 'dydx', 'channel': 'tickers', 'url': 'https://api.dydx.exchange/v3/markets'}\n",
      "{'api': 'deribit', 'channel': 'options1', 'url': 'https://www.deribit.com/api/v2/public/get_book_summary_by_currency?currency=BTC&kind=future'}\n",
      "{'api': 'deribit', 'channel': 'options1', 'url': 'https://www.deribit.com/api/v2/public/get_book_summary_by_currency?currency=BTC&kind=option'}\n",
      "{'api': 'deribit', 'channel': 'options2', 'url': 'https://www.deribit.com/api/v2/public/ticker?instrument_name=BTC-PERPETUAL'}\n"
     ]
    }
   ],
   "source": [
    "print_enpoints(config.markets)"
   ]
  }
 ],
 "metadata": {
  "kernelspec": {
   "display_name": ".venv",
   "language": "python",
   "name": "python3"
  },
  "language_info": {
   "codemirror_mode": {
    "name": "ipython",
    "version": 3
   },
   "file_extension": ".py",
   "mimetype": "text/x-python",
   "name": "python",
   "nbconvert_exporter": "python",
   "pygments_lexer": "ipython3",
   "version": "3.10.8"
  }
 },
 "nbformat": 4,
 "nbformat_minor": 2
}
