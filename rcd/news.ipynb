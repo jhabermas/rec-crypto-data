{
 "cells": [
  {
   "cell_type": "code",
   "execution_count": null,
   "metadata": {},
   "outputs": [],
   "source": [
    "from GoogleNews import GoogleNews\n",
    "from datetime import datetime\n",
    "\n",
    "# Set topic, date range, and language\n",
    "topic = \"bitcoin\"\n",
    "start_date = datetime(2024, 1, 1)\n",
    "end_date = datetime(2024, 1, 3)\n",
    "language = \"en\"\n",
    "\n",
    "googlenews = GoogleNews(lang=language)\n",
    "googlenews.set_time_range(\n",
    "    start_date.strftime(\"%m/%d/%Y\"), end_date.strftime(\"%m/%d/%Y\")\n",
    ")\n",
    "\n",
    "# Retrieve news\n",
    "news_results = googlenews.search(topic)\n",
    "\n",
    "# Process news results (titles, links, etc.)\n",
    "news_results"
   ]
  }
 ],
 "metadata": {
  "kernelspec": {
   "display_name": ".venv",
   "language": "python",
   "name": "python3"
  },
  "language_info": {
   "codemirror_mode": {
    "name": "ipython",
    "version": 3
   },
   "file_extension": ".py",
   "mimetype": "text/x-python",
   "name": "python",
   "nbconvert_exporter": "python",
   "pygments_lexer": "ipython3",
   "version": "3.10.8"
  }
 },
 "nbformat": 4,
 "nbformat_minor": 2
}
