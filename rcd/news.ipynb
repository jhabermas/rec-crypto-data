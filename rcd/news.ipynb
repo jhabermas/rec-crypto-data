{
 "cells": [
  {
   "cell_type": "code",
   "execution_count": null,
   "metadata": {},
   "outputs": [],
   "source": [
    "from GoogleNews import GoogleNews\n",
    "\n",
    "googlenews = GoogleNews()\n",
    "\n",
    "print(googlenews.getVersion())\n",
    "\n",
    "googlenews.enableException(True)\n",
    "\n",
    "googlenews = GoogleNews(period=\"7d\")\n",
    "\n",
    "googlenews.set_lang(\"en\")\n",
    "googlenews.set_encode(\"utf-8\")\n",
    "\n",
    "news_results = googlenews.get_news(\"APPLE\")"
   ]
  },
  {
   "cell_type": "code",
   "execution_count": null,
   "metadata": {},
   "outputs": [],
   "source": [
    "print(news_results)"
   ]
  },
  {
   "cell_type": "code",
   "execution_count": null,
   "metadata": {},
   "outputs": [],
   "source": [
    "googlenews.total_count()"
   ]
  },
  {
   "cell_type": "code",
   "execution_count": null,
   "metadata": {},
   "outputs": [],
   "source": [
    "import redditwarp.SYNC\n",
    "\n",
    "client = redditwarp.SYNC.Client()\n",
    "\n",
    "newest_comment_ts = 0\n",
    "\n",
    "subreddits = ['bitcoin', 'cryptocurrency', 'bitcoinmarkets']\n",
    "# How many subscribers does r/Python have?\n",
    "subr = client.p.subreddit.fetch_by_name(\"bitcoinmarkets\")\n",
    "print(subr.subscriber_count)\n",
    "hot = client.p.subreddit.pull.hot(\"bitcoin\", amount=5)\n",
    "for s in hot:\n",
    "    print(s.comment_count)\n",
    "    if \"daily\" in s.title.lower():\n",
    "        print(s.title)\n",
    "        print(s.created_at)\n",
    "        print(s.created_ut)\n",
    "        tree_node = client.p.comment_tree.fetch(s.id36, sort=\"new\", limit=4)\n",
    "        for ch in tree_node.children:\n",
    "            c = ch.value\n",
    "            if c.created_ut > newest_comment_ts\n",
    "\n",
    "            print(\n",
    "                f\"\"\"\\\n",
    "                {c.submission.id36}+{c.id36} ^{c.score}\n",
    "                {c.created_ut}\n",
    "                u/{c.author_display_name} says:\n",
    "                {c.body}\n",
    "                \"\"\"\n",
    "            )"
   ]
  },
  {
   "cell_type": "code",
   "execution_count": null,
   "metadata": {},
   "outputs": [],
   "source": [
    "import feedparser\n",
    "import time\n",
    "import os\n",
    "from pprint import pp\n",
    "\n",
    "\n",
    "class RssFeed:\n",
    "    def __init__(self, url):\n",
    "        self.url = url\n",
    "        self.latest_timestamp_file = \"latest_timestamp.txt\"\n",
    "        self.latest_timestamp = self.get_latest_timestamp()\n",
    "\n",
    "    def get_latest_timestamp(self):\n",
    "        try:\n",
    "            with open(self.latest_timestamp_file, \"r\") as f:\n",
    "                return float(f.readline().strip())\n",
    "        except (FileNotFoundError, ValueError):\n",
    "            return None\n",
    "\n",
    "    def set_latest_timestamp(self, timestamp):\n",
    "        with open(self.latest_timestamp_file, \"w\") as f:\n",
    "            f.write(str(timestamp))\n",
    "\n",
    "    def get_article_timestamp(self, entry):\n",
    "        if hasattr(entry, \"published_parsed\"):\n",
    "            return time.mktime(entry.published_parsed)\n",
    "        return time.time()\n",
    "\n",
    "    def fetch_and_store(self):\n",
    "        feed = feedparser.parse(self.url)\n",
    "        new_latest_timestamp = self.latest_timestamp\n",
    "        for entry in feed.entries:\n",
    "            pp(entry)\n",
    "            continue\n",
    "            article_timestamp = self.get_article_timestamp(entry)\n",
    "            if (\n",
    "                self.latest_timestamp is None\n",
    "                or article_timestamp > self.latest_timestamp\n",
    "            ):\n",
    "                # Insert the article into your storage here\n",
    "                # Replace with actual insertion logic\n",
    "                print(\n",
    "                    f\"New Article: {entry.title} - Timestamp: {time.strftime('%Y-%m-%d %H:%M:%S', time.gmtime(article_timestamp))}\"\n",
    "                )\n",
    "                pp(entry)\n",
    "                new_latest_timestamp = (\n",
    "                    max(new_latest_timestamp, article_timestamp)\n",
    "                    if new_latest_timestamp\n",
    "                    else article_timestamp\n",
    "                )\n",
    "\n",
    "        if new_latest_timestamp != self.latest_timestamp:\n",
    "            self.set_latest_timestamp(new_latest_timestamp)\n",
    "            self.latest_timestamp = new_latest_timestamp"
   ]
  },
  {
   "cell_type": "code",
   "execution_count": null,
   "metadata": {},
   "outputs": [],
   "source": [
    "import csv\n",
    "\n",
    "file_path = \"../config/rss_feeds.dev.csv\"\n",
    "feeds = []\n",
    "with open(file_path, newline=\"\") as csvfile:\n",
    "    csv_reader = csv.reader(csvfile)\n",
    "    for row in csv_reader:\n",
    "        feeds.append(row[0])\n",
    "\n",
    "for feed in feeds:\n",
    "    print(f\"Fetching {feed}\")\n",
    "    rss_feed = RssFeed(feed)\n",
    "    rss_feed.fetch_and_store()"
   ]
  },
  {
   "cell_type": "code",
   "execution_count": null,
   "metadata": {},
   "outputs": [],
   "source": [
    "def main():\n",
    "    rss_feed = RssFeed(\"http://feeds.bbci.co.uk/news/rss.xml\")\n",
    "    while True:\n",
    "        rss_feed.fetch_and_store()\n",
    "        time.sleep(3600)  # Wait for 1 hour\n",
    "\n",
    "\n",
    "if __name__ == \"__main__\":\n",
    "    main()"
   ]
  },
  {
   "cell_type": "code",
   "execution_count": null,
   "metadata": {},
   "outputs": [],
   "source": [
    "import feedparser\n",
    "\n",
    "# Parsing the provided RSS feed URL\n",
    "# feed_url = \"https://www.newsbtc.com/feed/\"\n",
    "# feed_url = \"https://nitter.cz/elonmusk/rss\"\n",
    "feed_url = \"https://news.bitcoin.com/feed/\"\n",
    "feed = feedparser.parse(feed_url)\n",
    "\n",
    "# Checking the basic information about the feed and the number of entries\n",
    "feed_info = {\n",
    "    \"feed_title\": feed.feed.get(\"title\", \"No title available\"),\n",
    "    \"feed_subtitle\": feed.feed.get(\"subtitle\", \"No subtitle available\"),\n",
    "    \"number_of_entries\": len(feed.entries),\n",
    "}\n",
    "\n",
    "feed_info"
   ]
  }
 ],
 "metadata": {
  "kernelspec": {
   "display_name": ".venv",
   "language": "python",
   "name": "python3"
  },
  "language_info": {
   "codemirror_mode": {
    "name": "ipython",
    "version": 3
   },
   "file_extension": ".py",
   "mimetype": "text/x-python",
   "name": "python",
   "nbconvert_exporter": "python",
   "pygments_lexer": "ipython3",
   "version": "3.10.12"
  }
 },
 "nbformat": 4,
 "nbformat_minor": 2
}
