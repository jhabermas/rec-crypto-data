{
 "cells": [
  {
   "cell_type": "code",
   "execution_count": 4,
   "metadata": {},
   "outputs": [
    {
     "name": "stdout",
     "output_type": "stream",
     "text": [
      "1.6.12\n"
     ]
    }
   ],
   "source": [
    "from GoogleNews import GoogleNews\n",
    "\n",
    "googlenews = GoogleNews()\n",
    "\n",
    "print(googlenews.getVersion())\n",
    "\n",
    "googlenews.enableException(True)\n",
    "\n",
    "googlenews = GoogleNews(period=\"7d\")\n",
    "\n",
    "googlenews.set_lang(\"en\")\n",
    "googlenews.set_encode(\"utf-8\")\n",
    "\n",
    "news_results = googlenews.get_news(\"APPLE\")"
   ]
  },
  {
   "cell_type": "code",
   "execution_count": 5,
   "metadata": {},
   "outputs": [
    {
     "name": "stdout",
     "output_type": "stream",
     "text": [
      "None\n"
     ]
    }
   ],
   "source": [
    "print(news_results)"
   ]
  },
  {
   "cell_type": "code",
   "execution_count": 7,
   "metadata": {},
   "outputs": [
    {
     "data": {
      "text/plain": [
       "0"
      ]
     },
     "execution_count": 7,
     "metadata": {},
     "output_type": "execute_result"
    }
   ],
   "source": [
    "googlenews.total_count()"
   ]
  },
  {
   "cell_type": "code",
   "execution_count": 23,
   "metadata": {},
   "outputs": [
    {
     "name": "stdout",
     "output_type": "stream",
     "text": [
      "273405\n",
      "130\n",
      "33\n",
      "Daily Discussion, January 20, 2024\n",
      "2024-01-20 06:02:36+00:00\n",
      "1705730556\n",
      "                19b4y5g+kirqric ^1\n",
      "                1705774568\n",
      "                u/somedudenamedjason says:\n",
      "                I bought some more bitcoin yesterday. Will buy some more later this week when I get paid. Then some more next time I have some free money. Probably more after. Just going to keep buying bitcoin for the foreseeable future, easiest system ever!\n",
      "                \n",
      "                19b4y5g+kirlpnr ^1\n",
      "                1705772822\n",
      "                u/Environmental-Wear76 says:\n",
      "                So does this mean retail barely touches the sides now then? Because if i had some spare cash, I'd be buying at this price.\n",
      "                \n",
      "39\n",
      "228\n",
      "24\n"
     ]
    }
   ],
   "source": [
    "import redditwarp.SYNC\n",
    "\n",
    "client = redditwarp.SYNC.Client()\n",
    "\n",
    "newest_comment_ts = 0\n",
    "\n",
    "subreddits = ['bitcoin', 'cryptocurrency', 'bitcoinmarkets']\n",
    "# How many subscribers does r/Python have?\n",
    "subr = client.p.subreddit.fetch_by_name(\"bitcoinmarkets\")\n",
    "print(subr.subscriber_count)\n",
    "hot = client.p.subreddit.pull.hot(\"bitcoin\", amount=5)\n",
    "for s in hot:\n",
    "    print(s.comment_count)\n",
    "    if \"daily\" in s.title.lower():\n",
    "        print(s.title)\n",
    "        print(s.created_at)\n",
    "        print(s.created_ut)\n",
    "        tree_node = client.p.comment_tree.fetch(s.id36, sort=\"new\", limit=4)\n",
    "        for ch in tree_node.children:\n",
    "            c = ch.value\n",
    "            if c.created_ut > newest_comment_ts\n",
    "\n",
    "            print(\n",
    "                f\"\"\"\\\n",
    "                {c.submission.id36}+{c.id36} ^{c.score}\n",
    "                {c.created_ut}\n",
    "                u/{c.author_display_name} says:\n",
    "                {c.body}\n",
    "                \"\"\"\n",
    "            )"
   ]
  },
  {
   "cell_type": "code",
   "execution_count": 26,
   "metadata": {},
   "outputs": [],
   "source": [
    "import feedparser\n",
    "import time\n",
    "import os\n",
    "\n",
    "\n",
    "class RssFeed:\n",
    "    def __init__(self, url):\n",
    "        self.url = url\n",
    "        self.latest_timestamp_file = \"latest_timestamp.txt\"\n",
    "        self.latest_timestamp = self.get_latest_timestamp()\n",
    "\n",
    "    def get_latest_timestamp(self):\n",
    "        try:\n",
    "            with open(self.latest_timestamp_file, \"r\") as f:\n",
    "                return float(f.readline().strip())\n",
    "        except (FileNotFoundError, ValueError):\n",
    "            return None\n",
    "\n",
    "    def set_latest_timestamp(self, timestamp):\n",
    "        with open(self.latest_timestamp_file, \"w\") as f:\n",
    "            f.write(str(timestamp))\n",
    "\n",
    "    def get_article_timestamp(self, entry):\n",
    "        if hasattr(entry, \"published_parsed\"):\n",
    "            return time.mktime(entry.published_parsed)\n",
    "        return time.time()\n",
    "\n",
    "    def fetch_and_store(self):\n",
    "        feed = feedparser.parse(self.url)\n",
    "        new_latest_timestamp = self.latest_timestamp\n",
    "        for entry in feed.entries:\n",
    "            article_timestamp = self.get_article_timestamp(entry)\n",
    "            if (\n",
    "                self.latest_timestamp is None\n",
    "                or article_timestamp > self.latest_timestamp\n",
    "            ):\n",
    "                # Insert the article into your storage here\n",
    "                # Replace with actual insertion logic\n",
    "                print(\n",
    "                    f\"New Article: {entry.title} - Timestamp: {time.strftime('%Y-%m-%d %H:%M:%S', time.gmtime(article_timestamp))}\"\n",
    "                )\n",
    "                new_latest_timestamp = (\n",
    "                    max(new_latest_timestamp, article_timestamp)\n",
    "                    if new_latest_timestamp\n",
    "                    else article_timestamp\n",
    "                )\n",
    "\n",
    "        if new_latest_timestamp != self.latest_timestamp:\n",
    "            self.set_latest_timestamp(new_latest_timestamp)\n",
    "            self.latest_timestamp = new_latest_timestamp"
   ]
  },
  {
   "cell_type": "code",
   "execution_count": 28,
   "metadata": {},
   "outputs": [
    {
     "name": "stdout",
     "output_type": "stream",
     "text": [
      "New Article: Police failed to respond to 999 call from house where bodies found\n",
      "New Article: Iran warns air strike on Syria will not go unanswered\n",
      "New Article: Royal Mail: Scrapping Saturday post among Ofcom options for reform\n",
      "New Article: Iran's sudden strikes show just how perilous region has become\n",
      "New Article: Two Royal Navy warships collide off coast of Bahrain\n",
      "New Article: Laura Kuenssberg: Why is Humza Yousaf predicting 'inevitable' Keir Starmer victory?\n",
      "New Article: Storm Isha to hit UK with winds of up to 80mph\n",
      "New Article: Russia: Cat thrown off train into snow found dead\n",
      "New Article: Great Yarmouth murder arrest after woman's body found in house\n",
      "New Article: Covid Inquiry has my informal messages, says Sturgeon\n",
      "New Article: Pro-Palestinian supporters disrupt speech by David Lammy\n",
      "New Article: Wakefield: Woman, 27, who died falling from van named\n",
      "New Article: Kids Company's Batmanghelidjh remembered at vibrant funeral\n",
      "New Article: Agonising headaches make me bang my head off walls\n",
      "New Article: How London hotel sting caught Swiss museum heist thieves\n",
      "New Article: Can Rishi Sunak halt growing Tory poll panic?\n",
      "New Article: Palestinians tell of fears for the future as war destroys Gaza\n",
      "New Article: Layton Williams: 'I was very good at playing a straight boy'\n",
      "New Article: The Papers: Rwanda plan ‘won’t work’ and steel jobs 'betrayal'\n",
      "New Article: Past Lives: The film on lost love that crosses continents\n",
      "New Article: Trudeau balancing act on Israel-Gaza annoys both sides of debate\n",
      "New Article: Measles: Why are cases rising and what are the symptoms?\n",
      "New Article: Tata steel: What do plans mean for UK's carbon footprint\n",
      "New Article: Arsenal 5-0 Crystal Palace: Gunners reignite title bid with win\n",
      "New Article: Dog with six legs has operation to remove extra limbs\n",
      "New Article: Tea bags and crisps among victims of shrinkflation\n",
      "New Article: British number one Norrie into Australian Open last 16\n",
      "New Article: AfD: Germans float ban on elected far-right party after scandal\n",
      "New Article: Fujitsu: MPs seek details on public sector contracts with IT firm\n",
      "New Article: Mary Weiss: Shangri-Las lead singer dies aged 75\n",
      "New Article: England's sexual health services 'at breaking point'\n",
      "New Article: Former Wimbledon referee Alan Mills dies aged 88\n",
      "New Article: Timket: Ethiopians leap into pool during holy festival\n",
      "New Article: Watch: Drone footage captures devastation of Bridgend blaze\n",
      "New Article: Michelle Mone's ex-lawyer apologises to BBC for misleading comments about Tory donations\n",
      "New Article: Israeli war leader challenges Netanyahu's Gaza strategy\n",
      "New Article: Succession creator Jesse Armstrong rules out show spin-offs\n",
      "New Article: China: 13 dead after school dormitory fire in Henan province\n",
      "New Article: Teenager jumps into frozen pond to rescue calf\n",
      "New Article: Port Talbot steelworks: Tata workers left stranded, say campaigners\n",
      "New Article: Alec Baldwin faces fresh manslaughter charge over 'Rust' shooting\n",
      "New Article: Japan lands on Moon but glitch threatens mission\n",
      "New Article: Jennifer Lopez surprises drag queen performing as her\n",
      "New Article: Tracking Houthi attacks in the Red Sea\n",
      "New Article: March for Life: Anti-abortion movement stalls as election year politics loom\n",
      "New Article: DJ Ace: Radio 1Xtra presenter bids farewell after three decades\n",
      "New Article: Cost of living: Teacher turns Insta star making five meals for £25\n",
      "New Article: Brentford 3-2 Nottingham Forest: Ivan Toney scores on his return as Bees beat Forest\n",
      "New Article: Great Britain's women and men secure places at Paris 2024 Olympics with qualifier wins\n",
      "New Article: Arsenal: 'FA Cup hurt will help us push in Premier League,' says Bukayo Saka\n",
      "New Article: Munster through despite defeat by 14-man Northampton\n",
      "New Article: Investec Champions Cup: Leicester 10-27 Leinster - Tigers made to wait for knockout spot\n",
      "New Article: Netball Nations Cup 2024: England make winning start against Uganda\n"
     ]
    }
   ],
   "source": [
    "rss_feed = RssFeed(\"http://feeds.bbci.co.uk/news/rss.xml\")\n",
    "rss_feed.fetch_and_store()"
   ]
  },
  {
   "cell_type": "code",
   "execution_count": 29,
   "metadata": {},
   "outputs": [],
   "source": [
    "rss_feed.fetch_and_store()"
   ]
  },
  {
   "cell_type": "code",
   "execution_count": null,
   "metadata": {},
   "outputs": [],
   "source": [
    "def main():\n",
    "    rss_feed = RssFeed(\"http://feeds.bbci.co.uk/news/rss.xml\")\n",
    "    while True:\n",
    "        rss_feed.fetch_and_store()\n",
    "        time.sleep(3600)  # Wait for 1 hour\n",
    "\n",
    "\n",
    "if __name__ == \"__main__\":\n",
    "    main()"
   ]
  }
 ],
 "metadata": {
  "kernelspec": {
   "display_name": ".venv",
   "language": "python",
   "name": "python3"
  },
  "language_info": {
   "codemirror_mode": {
    "name": "ipython",
    "version": 3
   },
   "file_extension": ".py",
   "mimetype": "text/x-python",
   "name": "python",
   "nbconvert_exporter": "python",
   "pygments_lexer": "ipython3",
   "version": "3.10.8"
  }
 },
 "nbformat": 4,
 "nbformat_minor": 2
}
